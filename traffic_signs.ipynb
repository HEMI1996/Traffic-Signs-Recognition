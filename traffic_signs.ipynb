{
 "cells": [
  {
   "cell_type": "code",
   "execution_count": 1,
   "metadata": {},
   "outputs": [
    {
     "name": "stderr",
     "output_type": "stream",
     "text": [
      "Using TensorFlow backend.\n"
     ]
    }
   ],
   "source": [
    "import numpy as np\n",
    "import pandas as pd\n",
    "import matplotlib.pyplot as plt\n",
    "import tensorflow as tf\n",
    "from PIL import Image\n",
    "import os\n",
    "from sklearn.model_selection import train_test_split\n",
    "from keras.utils import to_categorical\n",
    "from keras.models import Sequential\n",
    "from keras.layers import Conv2D, MaxPool2D, Dense, Flatten, Dropout"
   ]
  },
  {
   "cell_type": "markdown",
   "metadata": {},
   "source": [
    "With the help of the OS module, we iterate over all the classes and append images and their respective labels in the data and labels list."
   ]
  },
  {
   "cell_type": "code",
   "execution_count": 2,
   "metadata": {},
   "outputs": [],
   "source": [
    "data = []\n",
    "labels = []\n",
    "classes = 43\n",
    "cur_path = os.getcwd()\n",
    "\n",
    "for i in range(classes):\n",
    "    path = os.path.join(cur_path, 'Train', str(i))\n",
    "    images = os.listdir(path)\n",
    "    \n",
    "    for a in images:\n",
    "        try:\n",
    "            image = Image.open(path + '\\\\' + a)\n",
    "            image = image.resize((30,30))\n",
    "            image = np.array(image)\n",
    "            data.append(image)\n",
    "            labels.append(i)\n",
    "        except:\n",
    "            print('Error loading image')\n",
    "\n",
    "data = np.array(data)\n",
    "labels = np.array(labels)"
   ]
  },
  {
   "cell_type": "code",
   "execution_count": 3,
   "metadata": {},
   "outputs": [
    {
     "data": {
      "text/plain": [
       "numpy.ndarray"
      ]
     },
     "execution_count": 3,
     "metadata": {},
     "output_type": "execute_result"
    }
   ],
   "source": [
    "type(labels)"
   ]
  },
  {
   "cell_type": "code",
   "execution_count": 4,
   "metadata": {},
   "outputs": [
    {
     "data": {
      "text/plain": [
       "numpy.ndarray"
      ]
     },
     "execution_count": 4,
     "metadata": {},
     "output_type": "execute_result"
    }
   ],
   "source": [
    "type(data)"
   ]
  },
  {
   "cell_type": "code",
   "execution_count": 6,
   "metadata": {},
   "outputs": [
    {
     "data": {
      "text/plain": [
       "array([ 0,  0,  0, ..., 42, 42, 42])"
      ]
     },
     "execution_count": 6,
     "metadata": {},
     "output_type": "execute_result"
    }
   ],
   "source": [
    "labels"
   ]
  },
  {
   "cell_type": "code",
   "execution_count": 7,
   "metadata": {},
   "outputs": [
    {
     "data": {
      "text/plain": [
       "39209"
      ]
     },
     "execution_count": 7,
     "metadata": {},
     "output_type": "execute_result"
    }
   ],
   "source": [
    "len(labels)"
   ]
  },
  {
   "cell_type": "code",
   "execution_count": 8,
   "metadata": {},
   "outputs": [
    {
     "data": {
      "text/plain": [
       "numpy.int32"
      ]
     },
     "execution_count": 8,
     "metadata": {},
     "output_type": "execute_result"
    }
   ],
   "source": [
    "type(labels[0])"
   ]
  },
  {
   "cell_type": "code",
   "execution_count": 10,
   "metadata": {},
   "outputs": [
    {
     "name": "stdout",
     "output_type": "stream",
     "text": [
      "(39209, 30, 30, 3)\n",
      "(39209,)\n"
     ]
    }
   ],
   "source": [
    "print(data.shape)\n",
    "print(labels.shape)"
   ]
  },
  {
   "cell_type": "code",
   "execution_count": 11,
   "metadata": {},
   "outputs": [
    {
     "name": "stdout",
     "output_type": "stream",
     "text": [
      "(31367, 30, 30, 3) (7842, 30, 30, 3) (31367,) (7842,)\n"
     ]
    }
   ],
   "source": [
    "X_train, X_test, y_train, y_test = train_test_split(data, labels, test_size=0.2, random_state=42)\n",
    "\n",
    "print(X_train.shape, X_test.shape, y_train.shape, y_test.shape)"
   ]
  },
  {
   "cell_type": "code",
   "execution_count": 12,
   "metadata": {},
   "outputs": [
    {
     "data": {
      "text/plain": [
       "array([26, 15, 13, ...,  8,  7, 20])"
      ]
     },
     "execution_count": 12,
     "metadata": {},
     "output_type": "execute_result"
    }
   ],
   "source": [
    "y_test"
   ]
  },
  {
   "cell_type": "code",
   "execution_count": 21,
   "metadata": {},
   "outputs": [
    {
     "name": "stdout",
     "output_type": "stream",
     "text": [
      "(31367, 30, 30, 3)\n",
      "(31367, 30, 30, 3)\n",
      "(30, 30, 3)\n"
     ]
    }
   ],
   "source": [
    "print(X_train.shape)\n",
    "print(X_train.shape[:])\n",
    "print(X_train.shape[1:])"
   ]
  },
  {
   "cell_type": "code",
   "execution_count": 13,
   "metadata": {},
   "outputs": [
    {
     "data": {
      "text/plain": [
       "7842"
      ]
     },
     "execution_count": 13,
     "metadata": {},
     "output_type": "execute_result"
    }
   ],
   "source": [
    "len(y_test)"
   ]
  },
  {
   "cell_type": "code",
   "execution_count": 14,
   "metadata": {},
   "outputs": [],
   "source": [
    "y_train = to_categorical(y_train)\n",
    "y_test = to_categorical(y_test)"
   ]
  },
  {
   "cell_type": "code",
   "execution_count": 15,
   "metadata": {},
   "outputs": [
    {
     "data": {
      "text/plain": [
       "array([[0., 0., 0., ..., 0., 0., 0.],\n",
       "       [0., 0., 0., ..., 0., 0., 0.],\n",
       "       [0., 0., 0., ..., 0., 0., 0.],\n",
       "       ...,\n",
       "       [0., 0., 0., ..., 0., 0., 0.],\n",
       "       [0., 0., 0., ..., 0., 0., 0.],\n",
       "       [0., 0., 0., ..., 0., 0., 0.]], dtype=float32)"
      ]
     },
     "execution_count": 15,
     "metadata": {},
     "output_type": "execute_result"
    }
   ],
   "source": [
    "y_test"
   ]
  },
  {
   "cell_type": "code",
   "execution_count": 16,
   "metadata": {},
   "outputs": [
    {
     "data": {
      "text/plain": [
       "7842"
      ]
     },
     "execution_count": 16,
     "metadata": {},
     "output_type": "execute_result"
    }
   ],
   "source": [
    "len(y_test)"
   ]
  },
  {
   "cell_type": "code",
   "execution_count": 18,
   "metadata": {},
   "outputs": [
    {
     "data": {
      "text/plain": [
       "(7842, 43)"
      ]
     },
     "execution_count": 18,
     "metadata": {},
     "output_type": "execute_result"
    }
   ],
   "source": [
    "y_test.shape"
   ]
  },
  {
   "cell_type": "code",
   "execution_count": 19,
   "metadata": {},
   "outputs": [
    {
     "data": {
      "text/plain": [
       "(31367, 43)"
      ]
     },
     "execution_count": 19,
     "metadata": {},
     "output_type": "execute_result"
    }
   ],
   "source": [
    "y_train.shape"
   ]
  },
  {
   "cell_type": "code",
   "execution_count": null,
   "metadata": {},
   "outputs": [],
   "source": []
  },
  {
   "cell_type": "markdown",
   "metadata": {},
   "source": [
    "# Building a CNN model"
   ]
  },
  {
   "cell_type": "code",
   "execution_count": 23,
   "metadata": {},
   "outputs": [],
   "source": [
    "model = Sequential()\n",
    "\n",
    "model.add(Conv2D(filters=32, kernel_size=(5,5), activation='relu', input_shape=X_train.shape[1:]))\n",
    "model.add(Conv2D(32, (5,5), activation='relu'))\n",
    "model.add(MaxPool2D(pool_size=(2,2)))\n",
    "model.add(Dropout(rate=0.25))\n",
    "\n",
    "model.add(Conv2D(64, (3,3), activation='relu'))\n",
    "model.add(Conv2D(64, (3,3), activation='relu'))\n",
    "model.add(MaxPool2D(pool_size=(2,2)))\n",
    "model.add(Dropout(rate=0.25))\n",
    "\n",
    "model.add(Flatten())\n",
    "\n",
    "model.add(Dense(256, activation='relu'))\n",
    "model.add(Dropout(rate=0.5))\n",
    "model.add(Dense(43, activation='softmax'))\n",
    "\n",
    "# compile the model\n",
    "model.compile(loss='categorical_crossentropy', optimizer='adam', metrics=['accuracy'])"
   ]
  },
  {
   "cell_type": "markdown",
   "metadata": {},
   "source": [
    "## Training and validating the model"
   ]
  },
  {
   "cell_type": "code",
   "execution_count": 24,
   "metadata": {},
   "outputs": [
    {
     "name": "stdout",
     "output_type": "stream",
     "text": [
      "Train on 31367 samples, validate on 7842 samples\n",
      "Epoch 1/15\n",
      "31367/31367 [==============================] - 74s 2ms/step - loss: 2.7751 - accuracy: 0.3229 - val_loss: 1.2828 - val_accuracy: 0.6479\n",
      "Epoch 2/15\n",
      "31367/31367 [==============================] - 73s 2ms/step - loss: 1.1953 - accuracy: 0.6469 - val_loss: 0.4936 - val_accuracy: 0.8818\n",
      "Epoch 3/15\n",
      "31367/31367 [==============================] - 73s 2ms/step - loss: 0.7884 - accuracy: 0.7589 - val_loss: 0.3030 - val_accuracy: 0.9199\n",
      "Epoch 4/15\n",
      "31367/31367 [==============================] - 73s 2ms/step - loss: 0.5938 - accuracy: 0.8183 - val_loss: 0.2325 - val_accuracy: 0.9329\n",
      "Epoch 5/15\n",
      "31367/31367 [==============================] - 73s 2ms/step - loss: 0.4466 - accuracy: 0.8667 - val_loss: 0.1770 - val_accuracy: 0.9459\n",
      "Epoch 6/15\n",
      "31367/31367 [==============================] - 73s 2ms/step - loss: 0.3537 - accuracy: 0.8941 - val_loss: 0.1355 - val_accuracy: 0.9611\n",
      "Epoch 7/15\n",
      "31367/31367 [==============================] - 73s 2ms/step - loss: 0.2815 - accuracy: 0.9155 - val_loss: 0.1054 - val_accuracy: 0.9713\n",
      "Epoch 8/15\n",
      "31367/31367 [==============================] - 73s 2ms/step - loss: 0.2533 - accuracy: 0.9238 - val_loss: 0.0914 - val_accuracy: 0.9746\n",
      "Epoch 9/15\n",
      "31367/31367 [==============================] - 73s 2ms/step - loss: 0.2480 - accuracy: 0.9260 - val_loss: 0.0901 - val_accuracy: 0.9756\n",
      "Epoch 10/15\n",
      "31367/31367 [==============================] - 73s 2ms/step - loss: 0.2180 - accuracy: 0.9338 - val_loss: 0.0811 - val_accuracy: 0.9762\n",
      "Epoch 11/15\n",
      "31367/31367 [==============================] - 72s 2ms/step - loss: 0.2096 - accuracy: 0.9397 - val_loss: 0.0819 - val_accuracy: 0.9778\n",
      "Epoch 12/15\n",
      "31367/31367 [==============================] - 70s 2ms/step - loss: 0.1964 - accuracy: 0.9413 - val_loss: 0.0690 - val_accuracy: 0.9815\n",
      "Epoch 13/15\n",
      "31367/31367 [==============================] - 64s 2ms/step - loss: 0.2039 - accuracy: 0.9419 - val_loss: 0.0600 - val_accuracy: 0.9853\n",
      "Epoch 14/15\n",
      "31367/31367 [==============================] - 71s 2ms/step - loss: 0.1782 - accuracy: 0.9492 - val_loss: 0.0884 - val_accuracy: 0.9755\n",
      "Epoch 15/15\n",
      "31367/31367 [==============================] - 73s 2ms/step - loss: 0.1771 - accuracy: 0.9506 - val_loss: 0.0631 - val_accuracy: 0.9833\n"
     ]
    }
   ],
   "source": [
    "epochs = 15\n",
    "# history = model.fit(X_train, y_train, batch_size=64, epochs=epochs, validation_data=(X_test, y_test))"
   ]
  },
  {
   "cell_type": "markdown",
   "metadata": {},
   "source": [
    "it took 20 minutes for training\n",
    "\n",
    "\n",
    "Train on 31367 samples, validate on 7842 samples\n",
    "Epoch 1/15\n",
    "31367/31367 [==============================] - 74s 2ms/step - loss: 2.7751 - accuracy: 0.3229 - val_loss: 1.2828 - val_accuracy: 0.6479\n",
    "Epoch 2/15\n",
    "31367/31367 [==============================] - 73s 2ms/step - loss: 1.1953 - accuracy: 0.6469 - val_loss: 0.4936 - val_accuracy: 0.8818\n",
    "Epoch 3/15\n",
    "31367/31367 [==============================] - 73s 2ms/step - loss: 0.7884 - accuracy: 0.7589 - val_loss: 0.3030 - val_accuracy: 0.9199\n",
    "Epoch 4/15\n",
    "31367/31367 [==============================] - 73s 2ms/step - loss: 0.5938 - accuracy: 0.8183 - val_loss: 0.2325 - val_accuracy: 0.9329\n",
    "Epoch 5/15\n",
    "31367/31367 [==============================] - 73s 2ms/step - loss: 0.4466 - accuracy: 0.8667 - val_loss: 0.1770 - val_accuracy: 0.9459\n",
    "Epoch 6/15\n",
    "31367/31367 [==============================] - 73s 2ms/step - loss: 0.3537 - accuracy: 0.8941 - val_loss: 0.1355 - val_accuracy: 0.9611\n",
    "Epoch 7/15\n",
    "31367/31367 [==============================] - 73s 2ms/step - loss: 0.2815 - accuracy: 0.9155 - val_loss: 0.1054 - val_accuracy: 0.9713\n",
    "Epoch 8/15\n",
    "31367/31367 [==============================] - 73s 2ms/step - loss: 0.2533 - accuracy: 0.9238 - val_loss: 0.0914 - val_accuracy: 0.9746\n",
    "Epoch 9/15\n",
    "31367/31367 [==============================] - 73s 2ms/step - loss: 0.2480 - accuracy: 0.9260 - val_loss: 0.0901 - val_accuracy: 0.9756\n",
    "Epoch 10/15\n",
    "31367/31367 [==============================] - 73s 2ms/step - loss: 0.2180 - accuracy: 0.9338 - val_loss: 0.0811 - val_accuracy: 0.9762\n",
    "Epoch 11/15\n",
    "31367/31367 [==============================] - 72s 2ms/step - loss: 0.2096 - accuracy: 0.9397 - val_loss: 0.0819 - val_accuracy: 0.9778\n",
    "Epoch 12/15\n",
    "31367/31367 [==============================] - 70s 2ms/step - loss: 0.1964 - accuracy: 0.9413 - val_loss: 0.0690 - val_accuracy: 0.9815\n",
    "Epoch 13/15\n",
    "31367/31367 [==============================] - 64s 2ms/step - loss: 0.2039 - accuracy: 0.9419 - val_loss: 0.0600 - val_accuracy: 0.9853\n",
    "Epoch 14/15\n",
    "31367/31367 [==============================] - 71s 2ms/step - loss: 0.1782 - accuracy: 0.9492 - val_loss: 0.0884 - val_accuracy: 0.9755\n",
    "Epoch 15/15\n",
    "31367/31367 [==============================] - 73s 2ms/step - loss: 0.1771 - accuracy: 0.9506 - val_loss: 0.0631 - val_accuracy: 0.9833"
   ]
  },
  {
   "cell_type": "code",
   "execution_count": 25,
   "metadata": {},
   "outputs": [
    {
     "data": {
      "text/plain": [
       "<matplotlib.legend.Legend at 0x18ba2c74828>"
      ]
     },
     "execution_count": 25,
     "metadata": {},
     "output_type": "execute_result"
    },
    {
     "data": {
      "image/png": "[encoded data removed]",
      "text/plain": [
       "<Figure size 432x288 with 1 Axes>"
      ]
     },
     "metadata": {
      "needs_background": "light"
     },
     "output_type": "display_data"
    },
    {
     "data": {
      "image/png": "[encoded data removed]",
      "text/plain": [
       "<Figure size 432x288 with 1 Axes>"
      ]
     },
     "metadata": {
      "needs_background": "light"
     },
     "output_type": "display_data"
    }
   ],
   "source": [
    "plt.figure(0)\n",
    "plt.plot(history.history['accuracy'], label='training accuracy')\n",
    "plt.plot(history.history['val_accuracy'], label='val accuracy')\n",
    "plt.title('Accuracy')\n",
    "plt.xlabel('epochs')\n",
    "plt.ylabel('accuracy')\n",
    "plt.legend()\n",
    "\n",
    "plt.figure(1)\n",
    "plt.plot(history.history['loss'], label='training loss')\n",
    "plt.plot(history.history['val_loss'], label='val loss')\n",
    "plt.title('Loss')\n",
    "plt.xlabel('epochs')\n",
    "plt.ylabel('loss')\n",
    "plt.legend()"
   ]
  },
  {
   "cell_type": "markdown",
   "metadata": {},
   "source": [
    "## Testing our model with test dataset"
   ]
  },
  {
   "cell_type": "code",
   "execution_count": 26,
   "metadata": {},
   "outputs": [
    {
     "data": {
      "text/plain": [
       "0.9440221694378464"
      ]
     },
     "execution_count": 26,
     "metadata": {},
     "output_type": "execute_result"
    }
   ],
   "source": [
    "from sklearn.metrics import accuracy_score\n",
    "import pandas as pd\n",
    "y_test = pd.read_csv('Test.csv')\n",
    "\n",
    "labels = y_test['ClassId'].values\n",
    "imgs = y_test['Path'].values\n",
    "\n",
    "data = []\n",
    "\n",
    "for img in imgs:\n",
    "    image = Image.open(img)\n",
    "    image = image.resize((30,30))\n",
    "    data.append(np.array(image))\n",
    "\n",
    "X_test = np.array(data)\n",
    "\n",
    "pred = model.predict_classes(X_test)\n",
    "\n",
    "# accuracy with the test data\n",
    "from sklearn.metrics import accuracy_score\n",
    "accuracy_score(labels, pred)"
   ]
  },
  {
   "cell_type": "code",
   "execution_count": 27,
   "metadata": {},
   "outputs": [],
   "source": [
    "model.save('traffic_classifier.h5')"
   ]
  },
  {
   "cell_type": "code",
   "execution_count": null,
   "metadata": {},
   "outputs": [],
   "source": []
  }
 ],
 "metadata": {
  "kernelspec": {
   "display_name": "Python_v",
   "language": "python",
   "name": "ml"
  },
  "language_info": {
   "codemirror_mode": {
    "name": "ipython",
    "version": 3
   },
   "file_extension": ".py",
   "mimetype": "text/x-python",
   "name": "python",
   "nbconvert_exporter": "python",
   "pygments_lexer": "ipython3",
   "version": "3.6.8"
  }
 },
 "nbformat": 4,
 "nbformat_minor": 4
}
